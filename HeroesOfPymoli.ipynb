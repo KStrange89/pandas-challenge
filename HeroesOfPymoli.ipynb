{
 "cells": [
  {
   "cell_type": "code",
   "execution_count": 1,
   "metadata": {},
   "outputs": [],
   "source": [
    "import pandas as pd"
   ]
  },
  {
   "cell_type": "code",
   "execution_count": 2,
   "metadata": {},
   "outputs": [
    {
     "data": {
      "text/html": [
       "<div>\n",
       "<style scoped>\n",
       "    .dataframe tbody tr th:only-of-type {\n",
       "        vertical-align: middle;\n",
       "    }\n",
       "\n",
       "    .dataframe tbody tr th {\n",
       "        vertical-align: top;\n",
       "    }\n",
       "\n",
       "    .dataframe thead th {\n",
       "        text-align: right;\n",
       "    }\n",
       "</style>\n",
       "<table border=\"1\" class=\"dataframe\">\n",
       "  <thead>\n",
       "    <tr style=\"text-align: right;\">\n",
       "      <th></th>\n",
       "      <th>Purchase ID</th>\n",
       "      <th>SN</th>\n",
       "      <th>Age</th>\n",
       "      <th>Gender</th>\n",
       "      <th>Item ID</th>\n",
       "      <th>Item Name</th>\n",
       "      <th>Price</th>\n",
       "    </tr>\n",
       "  </thead>\n",
       "  <tbody>\n",
       "    <tr>\n",
       "      <th>0</th>\n",
       "      <td>0</td>\n",
       "      <td>Lisim78</td>\n",
       "      <td>20</td>\n",
       "      <td>Male</td>\n",
       "      <td>108</td>\n",
       "      <td>Extraction, Quickblade Of Trembling Hands</td>\n",
       "      <td>3.53</td>\n",
       "    </tr>\n",
       "    <tr>\n",
       "      <th>1</th>\n",
       "      <td>1</td>\n",
       "      <td>Lisovynya38</td>\n",
       "      <td>40</td>\n",
       "      <td>Male</td>\n",
       "      <td>143</td>\n",
       "      <td>Frenzied Scimitar</td>\n",
       "      <td>1.56</td>\n",
       "    </tr>\n",
       "    <tr>\n",
       "      <th>2</th>\n",
       "      <td>2</td>\n",
       "      <td>Ithergue48</td>\n",
       "      <td>24</td>\n",
       "      <td>Male</td>\n",
       "      <td>92</td>\n",
       "      <td>Final Critic</td>\n",
       "      <td>4.88</td>\n",
       "    </tr>\n",
       "    <tr>\n",
       "      <th>3</th>\n",
       "      <td>3</td>\n",
       "      <td>Chamassasya86</td>\n",
       "      <td>24</td>\n",
       "      <td>Male</td>\n",
       "      <td>100</td>\n",
       "      <td>Blindscythe</td>\n",
       "      <td>3.27</td>\n",
       "    </tr>\n",
       "    <tr>\n",
       "      <th>4</th>\n",
       "      <td>4</td>\n",
       "      <td>Iskosia90</td>\n",
       "      <td>23</td>\n",
       "      <td>Male</td>\n",
       "      <td>131</td>\n",
       "      <td>Fury</td>\n",
       "      <td>1.44</td>\n",
       "    </tr>\n",
       "  </tbody>\n",
       "</table>\n",
       "</div>"
      ],
      "text/plain": [
       "   Purchase ID             SN  Age Gender  Item ID  \\\n",
       "0            0        Lisim78   20   Male      108   \n",
       "1            1    Lisovynya38   40   Male      143   \n",
       "2            2     Ithergue48   24   Male       92   \n",
       "3            3  Chamassasya86   24   Male      100   \n",
       "4            4      Iskosia90   23   Male      131   \n",
       "\n",
       "                                   Item Name  Price  \n",
       "0  Extraction, Quickblade Of Trembling Hands   3.53  \n",
       "1                          Frenzied Scimitar   1.56  \n",
       "2                               Final Critic   4.88  \n",
       "3                                Blindscythe   3.27  \n",
       "4                                       Fury   1.44  "
      ]
     },
     "execution_count": 2,
     "metadata": {},
     "output_type": "execute_result"
    }
   ],
   "source": [
    "rawdata = pd.read_csv(\"purchase_data.csv\")\n",
    "rawdata.head()"
   ]
  },
  {
   "cell_type": "markdown",
   "metadata": {},
   "source": [
    "# Player Count"
   ]
  },
  {
   "cell_type": "code",
   "execution_count": 3,
   "metadata": {},
   "outputs": [
    {
     "data": {
      "text/plain": [
       "576"
      ]
     },
     "execution_count": 3,
     "metadata": {},
     "output_type": "execute_result"
    }
   ],
   "source": [
    "numOfPlayers = len(rawdata[\"SN\"].unique())\n",
    "numOfPlayers"
   ]
  },
  {
   "cell_type": "markdown",
   "metadata": {},
   "source": [
    "# Purchasing Analysis (Total)"
   ]
  },
  {
   "cell_type": "code",
   "execution_count": 4,
   "metadata": {},
   "outputs": [],
   "source": [
    "numOfItems = len(rawdata[\"Item Name\"].unique())\n",
    "averagePrice = round(rawdata[\"Price\"].mean(), 2)\n",
    "numOfPurchases = len(rawdata)\n",
    "totalRevenue = round(sum(rawdata[\"Price\"]), 2)\n"
   ]
  },
  {
   "cell_type": "code",
   "execution_count": 5,
   "metadata": {},
   "outputs": [
    {
     "name": "stdout",
     "output_type": "stream",
     "text": [
      "Number of unique items sold: 179\n",
      "Average purchase price: $3.05\n",
      "Total number of purchases: 780\n",
      "Total revenue: $2379.77\n"
     ]
    }
   ],
   "source": [
    "print(f\"Number of unique items sold: {numOfItems}\")\n",
    "print(f\"Average purchase price: ${averagePrice}\")\n",
    "print(f\"Total number of purchases: {numOfPurchases}\")\n",
    "print(f\"Total revenue: ${totalRevenue}\")"
   ]
  },
  {
   "cell_type": "markdown",
   "metadata": {},
   "source": [
    "# Gender Demographics"
   ]
  },
  {
   "cell_type": "code",
   "execution_count": 6,
   "metadata": {},
   "outputs": [
    {
     "name": "stdout",
     "output_type": "stream",
     "text": [
      "Percentage and Count of Male Players: 84.03%, 484\n",
      "Percentage and Count of Female Players: 14.06%, 81\n",
      "Percentage and Count of undisclosed or nonbinary gender: 1.91%, 11\n"
     ]
    }
   ],
   "source": [
    "uniqueSN = rawdata.drop_duplicates(subset = [\"SN\"])\n",
    "uniquegender = rawdata.drop_duplicates(subset = ['Gender'])\n",
    "\n",
    "male_df = rawdata.loc[rawdata['Gender'] == 'Male']\n",
    "female_df = rawdata.loc[rawdata['Gender'] == 'Female']\n",
    "nonbinary_df = rawdata.loc[rawdata['Gender'] == 'Other / Non-Disclosed']\n",
    "\n",
    "numOfMale = len(male_df[\"SN\"].unique())\n",
    "numOfFemale = len(female_df[\"SN\"].unique())\n",
    "numOfOther = len(nonbinary_df[\"SN\"].unique())\n",
    "\n",
    "perMale = \"{:.2%}\".format(numOfMale / numOfPlayers)\n",
    "perFemale = \"{:.2%}\".format(numOfFemale / numOfPlayers)\n",
    "perOther = \"{:.2%}\".format(numOfOther / numOfPlayers)\n",
    "\n",
    "print(f\"Percentage and Count of Male Players: {perMale}, {numOfMale}\")\n",
    "print(f\"Percentage and Count of Female Players: {perFemale}, {numOfFemale}\")\n",
    "print(f\"Percentage and Count of undisclosed or nonbinary gender: {perOther}, {numOfOther}\")"
   ]
  },
  {
   "cell_type": "markdown",
   "metadata": {},
   "source": [
    "# Purchasing Analysis (Gender)"
   ]
  },
  {
   "cell_type": "markdown",
   "metadata": {},
   "source": [
    "The below each broken by gender\n",
    "\n",
    "Purchase Count (check)\n",
    "Average Purchase Price (check)\n",
    "Total Purchase Value (check)\n",
    "Average Purchase Total per Person by Gender (check-ish)"
   ]
  },
  {
   "cell_type": "markdown",
   "metadata": {},
   "source": [
    "# Males"
   ]
  },
  {
   "cell_type": "code",
   "execution_count": 7,
   "metadata": {},
   "outputs": [
    {
     "name": "stdout",
     "output_type": "stream",
     "text": [
      "Purchase Count: 652\n",
      "Average Purchase Price: 3.02\n",
      "Total Purchase Value: 1967.64\n"
     ]
    }
   ],
   "source": [
    "malePurchases = len(male_df[\"Price\"])\n",
    "averageMalePrice = round(male_df[\"Price\"].mean(), 2)\n",
    "totalMaleRevenue = round(sum(male_df[\"Price\"]), 2)\n",
    "\n",
    "print(f\"Purchase Count: {malePurchases}\")\n",
    "print(f\"Average Purchase Price: {averageMalePrice}\")\n",
    "print(f\"Total Purchase Value: {totalMaleRevenue}\")"
   ]
  },
  {
   "cell_type": "code",
   "execution_count": 8,
   "metadata": {},
   "outputs": [
    {
     "name": "stdout",
     "output_type": "stream",
     "text": [
      "{'Lisim78': 3.34, 'Lisovynya38': 1.56, 'Ithergue48': 4.88, 'Chamassasya86': 3.27, 'Iskosia90': 1.44, 'Yalae81': 3.34, 'Itheria73': 2.18, 'Iskjaskst81': 2.21, 'Undjask33': 1.1, 'Inguron55': 3.7, 'Haisrisuir60': 3.43, 'Saelaephos52': 3.18, 'Assjaskan73': 1.7, 'Saesrideu94': 4.59, 'Lisirra25': 2.52, 'Zontibe81': 2.68, 'Chamalo71': 4.64, 'Iathenudil29': 4.6, 'Phiarithdeu40': 1.48, 'Eyrian71': 2.59, 'Siala43': 3.63, 'Lisirra87': 4.23, 'Lirtossa84': 1.62, 'Eusri44': 3.09, 'Aela59': 4.32, 'Tyida79': 3.7, 'Idai61': 2.74, 'Farusrian86': 4.48, 'Aeralria27': 4.09, 'Haillyrgue51': 3.17, 'Sondim73': 4.4, 'Jeyciman68': 2.05, 'Idaisuir85': 3.15, 'Seuthep89': 2.05, 'Sondilsaya62': 3.14, 'Aerithriaphos45': 1.56, 'Aidaillodeu39': 3.93, 'Aelly27': 3.39, 'Tyeosri53': 2.96, 'Haerith37': 1.66, 'Yasrisu92': 3.44, 'Chanuchi25': 3.97, 'Asur96': 4.74, 'Iaralrgue74': 1.61, 'Chanosia34': 2.96, 'Aelin32': 2.99, 'Ilosianya35': 2.84, 'Zhisrisu83': 3.94, 'Raesty92': 2.91, 'Palyon91': 3.39, 'Tyisur83': 1.79, 'Yaliru88': 3.03, 'Yadanu52': 2.38, 'Jiskimya77': 2.99, 'Yadaphos40': 2.68, 'Alo38': 1.0, 'Phaena87': 1.83, 'Chamirraya83': 2.22, 'Indonmol95': 3.3, 'Jiskossa61': 3.16, 'Pheodai94': 1.56, 'Assistasda42': 2.96, 'Lisosia93': 3.79, 'Philodil43': 1.29, 'Lirtosia63': 2.15, 'Assjaskan56': 2.96, 'Irithlis29': 4.86, 'Aina42': 3.07, 'Qarirwen82': 1.54, 'Laedallo55': 4.9, 'Eoralrap26': 1.7, 'Undosian34': 4.15, 'Chadolyla44': 3.82, 'Yathedeu43': 3.01, 'Aina43': 3.09, 'Ilassast39': 1.63, 'Lisassala98': 2.92, 'Aiduecal76': 3.79, 'Chadossa89': 3.19, 'Pheodaisun84': 2.77, 'Heollyriap59': 3.47, 'Maropast28': 4.76, 'Frichim77': 1.88, 'Thryallym62': 2.05, 'Eulanurin88': 1.79, 'Lassjaskan73': 2.5, 'Tyaerith73': 1.71, 'Sondadarya58': 1.75, 'Hirirap39': 1.35, 'Ririp86': 4.94, 'Undirrala66': 2.74, 'Nitherian58': 1.84, 'Lassilsala30': 3.84, 'Ilosia37': 3.67, 'Lisista27': 3.47, 'Seudaillorap38': 3.35, 'Aesty53': 1.96, 'Lisossanya98': 3.44, 'Iral74': 3.4, 'Lisast87': 3.3, 'Maridisya31': 3.08, 'Jiskassa76': 1.87, 'Ethriel85': 3.1, 'Iskirra45': 3.03, 'Iri67': 3.79, 'Rarallo90': 3.02, 'Lisasi93': 1.74, 'Eyista89': 1.29, 'Ili43': 2.18, 'Chamirra53': 2.68, 'Hailaphos89': 3.81, 'Iskadarya95': 4.37, 'Qilatista90': 1.76, 'Inasti31': 1.45, 'Marilsanya48': 3.03, 'Marjask87': 1.44, 'Chanjaskan89': 2.58, 'Hyaduesu61': 4.23, 'Sundadar27': 4.35, 'Tyaelorap29': 3.85, 'Lirtimst73': 2.19, 'Styaduen40': 1.66, 'Sidap51': 4.24, 'Chanastst38': 3.29, 'Lirtassa52': 1.09, 'Aeral97': 4.8, 'Lisopela58': 2.95, 'Caesrinusuir82': 2.59, 'Tyirinu79': 4.24, 'Fironon91': 4.08, 'Lassjask63': 1.94, 'Indcil77': 4.35, 'Chamimla73': 4.8, 'Mindista32': 4.23, 'Saena74': 4.74, 'Marirrasta50': 4.66, 'Lamil79': 4.64, 'Aenarap34': 2.96, 'Aisur51': 1.14, 'Thrientossa55': 2.85, 'Chadista79': 4.17, 'Tyeurith29': 3.65, 'Malunil62': 3.76, 'Hiasri33': 3.75, 'Lisadar44': 1.98, 'Frichjask31': 4.43, 'Lisjaskya84': 2.89, 'Ristydru66': 1.87, 'Frichast28': 2.05, 'Minduri31': 4.07, 'Mindetosya30': 3.16, 'Pheusrical25': 3.82, 'Chanosia60': 2.71, 'Phistym51': 4.75, 'Aelollo59': 2.82, 'Chamimla85': 2.1, 'Sondastsda82': 2.63, 'Qilanrion65': 3.03, 'Eulasuir89': 2.67, 'Eosrirgue62': 3.08, 'Shaidanu32': 3.08, 'Lirtastan49': 2.48, 'Iaralsuir44': 3.81, 'Tyeudariasuir90': 3.58, 'Cosadar58': 4.35, 'Aelastirin39': 3.64, 'Aidai53': 4.6, 'Jiskjask85': 1.33, 'Ealrion88': 4.48, 'Alim85': 2.5, 'Haeladil46': 3.81, 'Undosia27': 3.77, 'Peorith44': 3.44, 'Yarithsurgue62': 4.94, 'Rairin89': 3.45, 'Aerithriaphos46': 2.18, 'Lisista54': 1.92, 'Eodailis27': 2.88, 'Lirtastsda29': 3.42, 'Undilsan50': 1.79, 'Quaranmol58': 3.33, 'Lirtossa60': 2.28, 'Lirtilsa71': 4.94, 'Isursuir31': 3.39, 'Sundirrala66': 3.89, 'Saerallora71': 4.43, 'Iasur80': 1.66, 'Tyaelo67': 4.88, 'Yasur35': 4.48, 'Assehoan67': 1.75, 'Haellysu29': 3.77, 'Saida58': 1.03, 'Chamadar79': 3.14, 'Aeral43': 4.4, 'Lirtirra37': 3.14, 'Lassassast73': 4.65, 'Assassasta79': 3.31, 'Heollyra92': 3.07, 'Anallorgue57': 2.85, 'Smaistysu35': 3.34, 'Ennalmol65': 4.88, 'Yarithrgue83': 3.45, 'Sondimla25': 4.32, 'Aidai61': 1.01, 'Firan91': 4.91, 'Alaesu91': 3.45, 'Aellynun67': 3.74, 'Rilaera56': 4.08, 'Eulaestira36': 2.07, 'Idastidru52': 3.86, 'Ilirrasda54': 2.53, 'Alaephos75': 4.84, 'Minduli80': 1.44, 'Chanastya70': 3.58, 'Frichadaran88': 2.95, 'Siallylis44': 3.46, 'Aeri84': 1.61, 'Iasursti71': 1.66, 'Chamastya76': 2.05, 'Undirra73': 2.89, 'Aestysu37': 2.69, 'Chadadarla74': 3.02, 'Strithenu87': 3.39, 'Iasrira89': 3.12, 'Ialidru40': 3.16, 'Tyalaesu89': 2.96, 'Lirtilsa72': 3.67, 'Undjaskla97': 2.66, 'Saedaiphos46': 2.94, 'Aerithnucal56': 4.4, 'Lisossa46': 2.5, 'Lisista63': 1.74, 'Ceoral34': 4.58, 'Hilaerin92': 3.61, 'Chadilsasta32': 2.15, 'Undassa89': 1.76, 'Lisosia66': 3.65, 'Undimsya85': 3.46, 'Yadacal26': 3.27, 'Lisossa25': 1.56, 'Yastyriaphos75': 4.75, 'Hiasurria41': 1.61, 'Palatyon26': 2.37, 'Qilalista41': 1.02, 'Hada39': 2.86, 'Ilarin91': 4.23, 'Ryanara76': 3.47, 'Undista85': 3.45, 'Tyeoralru41': 2.94, 'Pheosrinudeu70': 3.58, 'Pheutherin27': 4.18, 'Chadirra90': 2.05, 'Ali84': 2.15, 'Frichjaskan98': 1.02, 'Malil90': 2.18, 'Yarithllodeu72': 3.75, 'Tyaedainu44': 3.54, 'Ethron58': 2.49, 'Eusurdeu49': 2.47, 'Saistyphos30': 3.44, 'Saisrilis27': 1.75, 'Hallysucal81': 1.66, 'Ilimya66': 4.23, 'Raysistast71': 3.65, 'Haedairiadru51': 3.09, 'Tyananurgue44': 3.27, 'Risty84': 4.6, 'Aerillorin70': 3.33, 'Phistyn52': 1.63, 'Yalo85': 3.65, 'Hiral75': 1.98, 'Isursti83': 1.54, 'Bartassaya73': 3.06, 'Aeda94': 4.91, 'Quinarap53': 3.54, 'Asur53': 2.48, 'Alarap40': 3.27, 'Hiarideu73': 2.5, 'Lassassasda30': 3.54, 'Ennoncil86': 1.74, 'Siralsudeu54': 1.23, 'Eusri26': 3.27, 'Ardcil81': 2.79, 'Marilsasya33': 1.35, 'Frichadar89': 2.67, 'Aesurstilis64': 1.03, 'Idaidil28': 3.79, 'Lisico81': 4.19, 'Lisiriya82': 2.27, 'Siana77': 1.97, 'Marokian45': 3.53, 'Sausosia74': 3.3, 'Assesi91': 1.54, 'Aisurria69': 1.79, 'Iarilis73': 2.75, 'Raisty38': 3.27, 'Ilista82': 1.14, 'Frichynde86': 1.63, 'Hisridru55': 3.08, 'Chamossa77': 1.77, 'Irillo49': 3.79, 'Lirtastsya71': 2.71, 'Qilunan34': 4.58, 'Quarrion42': 4.23, 'Hiaral50': 1.4, 'Iarallo65': 1.75, 'Ethralista69': 2.22, 'Euthe35': 1.03, 'Lassimla92': 4.08, 'Lisossala30': 4.35, 'Eulae84': 3.87, 'Chamadarnya73': 3.07, 'Eolan54': 1.54, 'Assistasda90': 4.35, 'Ennrian78': 3.04, 'Undirrasta89': 1.94, 'Rianistast50': 4.23, 'Undare39': 2.02, 'Adairialis76': 2.28, 'Aesur96': 2.21, 'Tyialisudeu65': 2.53, 'Arirgue63': 1.7, 'Sundadarla27': 2.85, 'Eyircil84': 4.35, 'Ina92': 4.58, 'Lirtistanya48': 3.15, 'Marassa62': 4.35, 'Mindossa76': 4.93, 'Salilis27': 4.23, 'Sondossa69': 4.48, 'Eurithphos97': 2.27, 'Raillydeu47': 1.97, 'Malon70': 2.38, 'Jiskimsda56': 1.14, 'Marughi89': 2.18, 'Ingatcil75': 1.56, 'Chanirrasta87': 4.94, 'Alaesu77': 2.49, 'Ermol76': 2.5, 'Tyeuduen32': 4.05, 'Firon67': 3.53, 'Iadueria43': 1.71, 'Pheulidil31': 3.27, 'Eodairu79': 3.4, 'Frichocesta66': 4.19, 'Thourdirra92': 1.44, 'Chanastnya43': 2.94, 'Iskim96': 1.33, 'Eulolis41': 2.67, 'Sastydeu50': 2.18, 'Ilaesudil92': 4.35, 'Yasur85': 1.1, 'Aerithnuphos61': 4.91, 'Yalostiphos68': 4.4, 'Meosridil82': 4.9, 'Aillyriadru65': 1.1, 'Lisim51': 2.83, 'Silaera56': 2.83, 'Leetirraya83': 3.29, 'Lirtirra81': 1.56, 'Eryon48': 1.1, 'Iana95': 3.1, 'Sondassan80': 2.6, 'Chanadar44': 3.19, 'Eosurdru76': 1.79, 'Shidai42': 1.33, 'Aesri53': 1.76, 'Syally44': 2.23, 'Jiskadarst60': 4.4, 'Sondadar26': 3.24, 'Malarrian73': 1.4, 'Ilunyon70': 3.54, 'Yadam35': 2.48, 'Dyally87': 4.99, 'Frichaya88': 3.93, 'Marynde90': 2.66, 'Isri34': 3.48, 'Assastnya25': 4.48, 'Ardonmol96': 1.55, 'Lassirrasda85': 3.44, 'Chadossa56': 1.98, 'Poshilsa82': 4.86, 'Sundista37': 1.77, 'Ilassa51': 2.22, 'Filurarn35': 4.91, 'Phaestycal84': 1.99, 'Irilis75': 1.02, 'Aeralstical35': 2.96, 'Chanirrala39': 3.08, 'Assirra56': 3.19, 'Seolollo93': 3.41, 'Iathem87': 3.19, 'Iasurriacal29': 4.07, 'Lisast98': 3.97, 'Filrion59': 4.64, 'Halaecal66': 3.55, 'Iskosian40': 3.07, 'Ilastilis78': 1.97, 'Seosrim97': 2.68, 'Farrian71': 3.08, 'Frichossala54': 3.08, 'Chamjaskya75': 2.84, 'Tyaelaelis94': 4.4, 'Quanenrian83': 2.27, 'Chanirra64': 1.54, 'Yadaisuir65': 4.09, 'Syathecal44': 2.42, 'Arin32': 4.54, 'Aelaria33': 1.79, 'Assassa81': 3.39, 'Filrion83': 4.4, 'Eoral49': 4.35, 'Eurisuru25': 2.18, 'Liawista80': 2.27, 'Chamadarsda63': 3.92, 'Haestyphos66': 1.97, 'Phaedasurap84': 3.82, 'Mindimnya67': 4.18, 'Chadjask85': 3.87, 'Eustyria89': 2.85, 'Iskim66': 3.46, 'Lirtassan78': 3.27, 'Ethrasyon38': 2.04, 'Lisassasda39': 2.94, 'Mindilsa60': 1.28, 'Lalossa38': 3.77, 'Chamistast30': 3.58, 'Hariphos58': 2.05, 'Chanilsasda38': 2.52, 'Mindesi74': 2.74, 'Ililsan66': 2.85, 'Idacal95': 2.07, 'Aeral68': 4.0, 'Tyarithn67': 1.14, 'Asty82': 3.09, 'Yalaeria91': 1.06, 'Chadjask77': 4.93, 'Ealiril69': 4.4, 'Quaecjask96': 4.4, 'Firatan58': 3.75, 'Yarolwen77': 4.43, 'Phiristi62': 1.79, 'Ililsasya43': 1.02, 'Aithelis62': 3.39, 'Undotesta33': 4.74, 'Aelidru27': 1.09, 'Chanossanya44': 3.14, 'Maradarnya40': 2.37, 'Lisilsa62': 4.88, 'Saena89': 3.41, 'Chanilsast61': 2.08, 'Sundassa93': 2.45, 'Aidai73': 3.08, 'Indirrian56': 1.77, 'Lisassasta50': 1.94, 'Iduelis31': 1.1, 'Chanosiaya39': 1.97, 'Assylla81': 4.18, 'Aidaira26': 4.23, 'Chamiman85': 4.4, 'Tyialisti80': 4.14, 'Marundi65': 1.75, 'Eusur90': 1.6, 'Mindirranya33': 3.87, 'Phiallylis33': 4.58, 'Isty55': 4.08, 'Frichilsa31': 1.44, 'Chanista95': 3.16, 'Aellyria80': 3.08, 'Rastynusuir31': 2.27, 'Iljask75': 3.61, 'Lisjaskan36': 3.36, 'Mindjasksya61': 2.6, 'Frichirranya75': 4.23, 'Ilast79': 2.05, 'Eratiel90': 4.6, 'Assim27': 1.7, 'Irith83': 2.07, 'Ilosian36': 4.58, 'Iskossasda43': 4.35, 'Hala31': 1.02, 'Jiskjask80': 4.19, 'Yathecal72': 3.46, 'Sisur91': 4.19}\n"
     ]
    }
   ],
   "source": [
    "maleaverageprice = {}\n",
    "\n",
    "for sn in male_df[\"SN\"].unique():\n",
    "    sn_df = male_df[male_df[\"SN\"] == sn]\n",
    "    averageprice = round(sn_df[\"Price\"].mean(), 2)\n",
    "    maleaverageprice[sn] = averageprice\n",
    "\n",
    "print(maleaverageprice)"
   ]
  },
  {
   "cell_type": "markdown",
   "metadata": {},
   "source": [
    "# Females"
   ]
  },
  {
   "cell_type": "code",
   "execution_count": 9,
   "metadata": {},
   "outputs": [
    {
     "name": "stdout",
     "output_type": "stream",
     "text": [
      "Purchase Count: 113\n",
      "Average Purchase Price: 3.2\n",
      "Total Purchase Value: 361.94\n"
     ]
    }
   ],
   "source": [
    "femalePurchases = len(female_df[\"Price\"])\n",
    "averageFemalePrice = round(female_df[\"Price\"].mean(), 2)\n",
    "totalFemaleRevenue = round(sum(female_df[\"Price\"]), 2)\n",
    "\n",
    "print(f\"Purchase Count: {femalePurchases}\")\n",
    "print(f\"Average Purchase Price: {averageFemalePrice}\")\n",
    "print(f\"Total Purchase Value: {totalFemaleRevenue}\")"
   ]
  },
  {
   "cell_type": "code",
   "execution_count": 10,
   "metadata": {},
   "outputs": [
    {
     "name": "stdout",
     "output_type": "stream",
     "text": [
      "{'Lisassa64': 2.89, 'Reunasu60': 4.41, 'Reulae52': 4.18, 'Assosia88': 1.33, 'Phaelap26': 3.32, 'Chanastsda67': 3.7, 'Hari50': 2.96, 'Marilsa69': 2.62, 'Mindadaran26': 3.75, 'Heudai45': 3.47, 'Jiskjask60': 2.22, 'Umolrian85': 2.71, 'Chadistaya75': 3.94, 'Iskichinya81': 2.47, 'Phyali88': 3.43, 'Frichaststa61': 1.79, 'Frichosia58': 4.43, 'Yathecal82': 2.07, 'Adastirin33': 4.48, 'Aillyrin83': 2.89, 'Marast30': 3.53, 'Sondim68': 2.83, 'Heosurnuru52': 2.23, 'Syathe73': 1.4, 'Baelollodeu94': 4.51, 'Maradaran90': 2.73, 'Ialallo29': 3.95, 'Haisurra41': 4.4, 'Chamjask73': 4.61, 'Tyaenasti87': 4.4, 'Taeduenu92': 4.4, 'Quanunwen42': 3.49, 'Tyidaim51': 3.94, 'Aerithllora36': 4.32, 'Yana46': 3.55, 'Wailin72': 2.73, 'Marim28': 2.17, 'Syalollorap93': 4.24, 'Mindilsa34': 2.37, 'Tyidainu31': 2.49, 'Layjask75': 1.7, 'Iduenu77': 3.82, 'Phaedue89': 3.85, 'Ilmol66': 3.08, 'Chamilsala65': 4.28, 'Heuli25': 3.28, 'Chamirrasya33': 1.52, 'Sida61': 2.71, 'Heunadil74': 1.54, 'Lisotesta51': 1.94, 'Eusri70': 3.67, 'Leyirra83': 3.65, 'Aiduesu86': 4.48, 'Frichosiala98': 3.54, 'Aisurdru79': 1.75, 'Sondassasya91': 3.81, 'Chanossast57': 4.32, 'Chanjask65': 4.32, 'Sondistanya61': 3.45, 'Eudanu32': 2.85, 'Sundjask71': 4.0, 'Errian63': 3.49, 'Aidain51': 3.45, 'Sally64': 1.33, 'Isurria36': 1.02, 'Pheosurllorin41': 2.69, 'Lassadarsda57': 3.25, 'Yoishirrala98': 4.58, 'Chanirra79': 1.01, 'Rithe53': 3.39, 'Quanrion96': 3.08, 'Lisirra58': 2.96, 'Chamast86': 2.05, 'Quilassa66': 4.23, 'Assilsan72': 4.9, 'Inasuir29': 4.4, 'Tyaelistidru84': 3.26, 'Yarithrin84': 4.14, 'Tyaelly53': 2.07, 'Eudanu84': 1.02, 'Aethedru70': 3.54}\n"
     ]
    }
   ],
   "source": [
    "femaleaverageprice={}\n",
    "\n",
    "for sn in female_df[\"SN\"].unique():\n",
    "    sn_df = female_df[female_df[\"SN\"] == sn]\n",
    "    averageprice = round(sn_df[\"Price\"].mean(), 2)\n",
    "    femaleaverageprice[sn] = averageprice\n",
    "    \n",
    "print(femaleaverageprice)"
   ]
  },
  {
   "cell_type": "markdown",
   "metadata": {},
   "source": [
    "# Other / Non-Disclosed"
   ]
  },
  {
   "cell_type": "code",
   "execution_count": 11,
   "metadata": {
    "scrolled": true
   },
   "outputs": [
    {
     "name": "stdout",
     "output_type": "stream",
     "text": [
      "Purchase Count: 15\n",
      "Average Purchase Price: 3.35\n",
      "Total Purchase Value: 50.19\n"
     ]
    }
   ],
   "source": [
    "otherPurchases = len(nonbinary_df[\"Price\"])\n",
    "averageOtherPrice = round(nonbinary_df[\"Price\"].mean(), 2)\n",
    "totalOtherRevenue = round(sum(nonbinary_df[\"Price\"]), 2)\n",
    "\n",
    "print(f\"Purchase Count: {otherPurchases}\")\n",
    "print(f\"Average Purchase Price: {averageOtherPrice}\")\n",
    "print(f\"Total Purchase Value: {totalOtherRevenue}\")"
   ]
  },
  {
   "cell_type": "code",
   "execution_count": 12,
   "metadata": {},
   "outputs": [
    {
     "name": "stdout",
     "output_type": "stream",
     "text": [
      "{'Chanosian48': 3.35, 'Siarithria38': 3.35, 'Haerithp41': 3.35, 'Sundim98': 3.35, 'Jiskirran77': 3.35, 'Idairin51': 3.35, 'Eodaisu60': 3.35, 'Rairith81': 3.35, 'Lirtim36': 3.35, 'Maluncil97': 3.35, 'Airi27': 3.35}\n"
     ]
    }
   ],
   "source": [
    "nonbinaryaverageprice = {}\n",
    "\n",
    "for sn in nonbinary_df[\"SN\"].unique():\n",
    "    sn_df = nonbinary_df[nonbinary_df[\"SN\"] == sn]\n",
    "    averageprice = round(nonbinary_df[\"Price\"].mean(), 2)\n",
    "    nonbinaryaverageprice[sn] = averageprice\n",
    "\n",
    "print(nonbinaryaverageprice)\n",
    "    "
   ]
  },
  {
   "cell_type": "markdown",
   "metadata": {},
   "source": [
    "# Age Demografics"
   ]
  },
  {
   "cell_type": "code",
   "execution_count": null,
   "metadata": {},
   "outputs": [],
   "source": [
    "The below each broken into bins of 4 years (i.e. <10, 10-14, 15-19, etc.)\n",
    "\n",
    "Purchase Count\n",
    "Average Purchase Price\n",
    "Total Purchase Value\n",
    "Average Purchase Total per Person by Age Group"
   ]
  },
  {
   "cell_type": "code",
   "execution_count": null,
   "metadata": {},
   "outputs": [],
   "source": []
  }
 ],
 "metadata": {
  "kernelspec": {
   "display_name": "Python 3",
   "language": "python",
   "name": "python3"
  },
  "language_info": {
   "codemirror_mode": {
    "name": "ipython",
    "version": 3
   },
   "file_extension": ".py",
   "mimetype": "text/x-python",
   "name": "python",
   "nbconvert_exporter": "python",
   "pygments_lexer": "ipython3",
   "version": "3.8.5"
  }
 },
 "nbformat": 4,
 "nbformat_minor": 4
}
