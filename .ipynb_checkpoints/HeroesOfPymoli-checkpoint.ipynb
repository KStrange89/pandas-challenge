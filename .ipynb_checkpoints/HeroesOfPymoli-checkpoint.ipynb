{
 "cells": [
  {
   "cell_type": "code",
   "execution_count": 1,
   "metadata": {},
   "outputs": [],
   "source": [
    "import pandas as pd"
   ]
  },
  {
   "cell_type": "code",
   "execution_count": 2,
   "metadata": {},
   "outputs": [
    {
     "data": {
      "text/html": [
       "<div>\n",
       "<style scoped>\n",
       "    .dataframe tbody tr th:only-of-type {\n",
       "        vertical-align: middle;\n",
       "    }\n",
       "\n",
       "    .dataframe tbody tr th {\n",
       "        vertical-align: top;\n",
       "    }\n",
       "\n",
       "    .dataframe thead th {\n",
       "        text-align: right;\n",
       "    }\n",
       "</style>\n",
       "<table border=\"1\" class=\"dataframe\">\n",
       "  <thead>\n",
       "    <tr style=\"text-align: right;\">\n",
       "      <th></th>\n",
       "      <th>Purchase ID</th>\n",
       "      <th>SN</th>\n",
       "      <th>Age</th>\n",
       "      <th>Gender</th>\n",
       "      <th>Item ID</th>\n",
       "      <th>Item Name</th>\n",
       "      <th>Price</th>\n",
       "    </tr>\n",
       "  </thead>\n",
       "  <tbody>\n",
       "    <tr>\n",
       "      <th>0</th>\n",
       "      <td>0</td>\n",
       "      <td>Lisim78</td>\n",
       "      <td>20</td>\n",
       "      <td>Male</td>\n",
       "      <td>108</td>\n",
       "      <td>Extraction, Quickblade Of Trembling Hands</td>\n",
       "      <td>3.53</td>\n",
       "    </tr>\n",
       "    <tr>\n",
       "      <th>1</th>\n",
       "      <td>1</td>\n",
       "      <td>Lisovynya38</td>\n",
       "      <td>40</td>\n",
       "      <td>Male</td>\n",
       "      <td>143</td>\n",
       "      <td>Frenzied Scimitar</td>\n",
       "      <td>1.56</td>\n",
       "    </tr>\n",
       "    <tr>\n",
       "      <th>2</th>\n",
       "      <td>2</td>\n",
       "      <td>Ithergue48</td>\n",
       "      <td>24</td>\n",
       "      <td>Male</td>\n",
       "      <td>92</td>\n",
       "      <td>Final Critic</td>\n",
       "      <td>4.88</td>\n",
       "    </tr>\n",
       "    <tr>\n",
       "      <th>3</th>\n",
       "      <td>3</td>\n",
       "      <td>Chamassasya86</td>\n",
       "      <td>24</td>\n",
       "      <td>Male</td>\n",
       "      <td>100</td>\n",
       "      <td>Blindscythe</td>\n",
       "      <td>3.27</td>\n",
       "    </tr>\n",
       "    <tr>\n",
       "      <th>4</th>\n",
       "      <td>4</td>\n",
       "      <td>Iskosia90</td>\n",
       "      <td>23</td>\n",
       "      <td>Male</td>\n",
       "      <td>131</td>\n",
       "      <td>Fury</td>\n",
       "      <td>1.44</td>\n",
       "    </tr>\n",
       "  </tbody>\n",
       "</table>\n",
       "</div>"
      ],
      "text/plain": [
       "   Purchase ID             SN  Age Gender  Item ID  \\\n",
       "0            0        Lisim78   20   Male      108   \n",
       "1            1    Lisovynya38   40   Male      143   \n",
       "2            2     Ithergue48   24   Male       92   \n",
       "3            3  Chamassasya86   24   Male      100   \n",
       "4            4      Iskosia90   23   Male      131   \n",
       "\n",
       "                                   Item Name  Price  \n",
       "0  Extraction, Quickblade Of Trembling Hands   3.53  \n",
       "1                          Frenzied Scimitar   1.56  \n",
       "2                               Final Critic   4.88  \n",
       "3                                Blindscythe   3.27  \n",
       "4                                       Fury   1.44  "
      ]
     },
     "execution_count": 2,
     "metadata": {},
     "output_type": "execute_result"
    }
   ],
   "source": [
    "rawdata = pd.read_csv(\"purchase_data.csv\")\n",
    "rawdata.head()"
   ]
  },
  {
   "cell_type": "markdown",
   "metadata": {},
   "source": [
    "# Player Count"
   ]
  },
  {
   "cell_type": "code",
   "execution_count": 3,
   "metadata": {},
   "outputs": [
    {
     "data": {
      "text/plain": [
       "576"
      ]
     },
     "execution_count": 3,
     "metadata": {},
     "output_type": "execute_result"
    }
   ],
   "source": [
    "numOfPlayers = len(rawdata[\"SN\"].unique())\n",
    "numOfPlayers"
   ]
  },
  {
   "cell_type": "markdown",
   "metadata": {},
   "source": [
    "# Purchasing Analysis (Total)"
   ]
  },
  {
   "cell_type": "code",
   "execution_count": 4,
   "metadata": {},
   "outputs": [],
   "source": [
    "numOfItems = len(rawdata[\"Item Name\"].unique())\n",
    "averagePrice = round(rawdata[\"Price\"].mean(), 2)\n",
    "numOfPurchases = len(rawdata)\n",
    "totalRevenue = round(sum(rawdata[\"Price\"]), 2)\n"
   ]
  },
  {
   "cell_type": "code",
   "execution_count": 5,
   "metadata": {},
   "outputs": [
    {
     "name": "stdout",
     "output_type": "stream",
     "text": [
      "Number of unique items sold: 179\n",
      "Average purchase price: $3.05\n",
      "Total number of purchases: 780\n",
      "Total revenue: $2379.77\n"
     ]
    }
   ],
   "source": [
    "print(f\"Number of unique items sold: {numOfItems}\")\n",
    "print(f\"Average purchase price: ${averagePrice}\")\n",
    "print(f\"Total number of purchases: {numOfPurchases}\")\n",
    "print(f\"Total revenue: ${totalRevenue}\")"
   ]
  },
  {
   "cell_type": "markdown",
   "metadata": {},
   "source": [
    "# Gender Demographics"
   ]
  },
  {
   "cell_type": "code",
   "execution_count": 6,
   "metadata": {},
   "outputs": [
    {
     "name": "stdout",
     "output_type": "stream",
     "text": [
      "Percentage and Count of Male Players: 84.03%, 484\n",
      "Percentage and Count of Female Players: 14.06%, 81\n",
      "Percentage and Count of undisclosed or nonbinary gender: 1.91%, 11\n"
     ]
    }
   ],
   "source": [
    "uniqueSN = rawdata.drop_duplicates(subset = [\"SN\"])\n",
    "uniquegender = rawdata.drop_duplicates(subset = ['Gender'])\n",
    "\n",
    "male_df = rawdata.loc[rawdata['Gender'] == 'Male']\n",
    "female_df = rawdata.loc[rawdata['Gender'] == 'Female']\n",
    "nonbinary_df = rawdata.loc[rawdata['Gender'] == 'Other / Non-Disclosed']\n",
    "\n",
    "numOfMale = len(male_df[\"SN\"].unique())\n",
    "numOfFemale = len(female_df[\"SN\"].unique())\n",
    "numOfOther = len(nonbinary_df[\"SN\"].unique())\n",
    "\n",
    "perMale = \"{:.2%}\".format(numOfMale / numOfPlayers)\n",
    "perFemale = \"{:.2%}\".format(numOfFemale / numOfPlayers)\n",
    "perOther = \"{:.2%}\".format(numOfOther / numOfPlayers)\n",
    "\n",
    "print(f\"Percentage and Count of Male Players: {perMale}, {numOfMale}\")\n",
    "print(f\"Percentage and Count of Female Players: {perFemale}, {numOfFemale}\")\n",
    "print(f\"Percentage and Count of undisclosed or nonbinary gender: {perOther}, {numOfOther}\")"
   ]
  },
  {
   "cell_type": "markdown",
   "metadata": {},
   "source": [
    "# Purchasing Analysis (Gender)"
   ]
  },
  {
   "cell_type": "markdown",
   "metadata": {},
   "source": [
    "The below each broken by gender\n",
    "\n",
    "Purchase Count\n",
    "Average Purchase Price\n",
    "Total Purchase Value\n",
    "Average Purchase Total per Person by Gender"
   ]
  },
  {
   "cell_type": "markdown",
   "metadata": {},
   "source": [
    "# Males"
   ]
  },
  {
   "cell_type": "code",
   "execution_count": 7,
   "metadata": {},
   "outputs": [
    {
     "ename": "SyntaxError",
     "evalue": "invalid syntax (<ipython-input-7-9f6e17135f68>, line 5)",
     "output_type": "error",
     "traceback": [
      "\u001b[1;36m  File \u001b[1;32m\"<ipython-input-7-9f6e17135f68>\"\u001b[1;36m, line \u001b[1;32m5\u001b[0m\n\u001b[1;33m    for male in\u001b[0m\n\u001b[1;37m                ^\u001b[0m\n\u001b[1;31mSyntaxError\u001b[0m\u001b[1;31m:\u001b[0m invalid syntax\n"
     ]
    }
   ],
   "source": [
    "malePurchases = len(male_df[\"Price\"])\n",
    "averageMalePrice = round(male_df[\"Price\"].mean(), 2)\n",
    "totalMaleRevenue = round(sum(male_df[\"Price\"]), 2)\n",
    "\n",
    "print(f\"Purchase Count: {malePurchases}\")\n",
    "print(f\"Average Purchase Price: {averageMalePrice}\")\n",
    "print(f\"Total Purchase Value: {totalMaleRevenue}\")"
   ]
  },
  {
   "cell_type": "markdown",
   "metadata": {},
   "source": [
    "# Females"
   ]
  },
  {
   "cell_type": "code",
   "execution_count": null,
   "metadata": {},
   "outputs": [],
   "source": [
    "femalePurchases = len(female_df[\"Price\"])\n",
    "averageFemalePrice = round(female_df[\"Price\"].mean(), 2)\n",
    "totalFemaleRevenue = round(sum(female_df[\"Price\"]), 2)\n",
    "\n",
    "print(f\"Purchase Count: {femalePurchases}\")\n",
    "print(f\"Average Purchase Price: {averageFemalePrice}\")\n",
    "print(f\"Total Purchase Value: {totalFemaleRevenue}\")"
   ]
  },
  {
   "cell_type": "markdown",
   "metadata": {},
   "source": [
    "# Other / Non-Disclosed"
   ]
  },
  {
   "cell_type": "code",
   "execution_count": null,
   "metadata": {
    "scrolled": true
   },
   "outputs": [],
   "source": [
    "otherPurchases = len(nonbinary_df[\"Price\"])\n",
    "averageOtherPrice = round(nonbinary_df[\"Price\"].mean(), 2)\n",
    "totalOtherRevenue = round(sum(nonbinary_df[\"Price\"]), 2)\n",
    "\n",
    "print(f\"Purchase Count: {otherPurchases}\")\n",
    "print(f\"Average Purchase Price: {averageOtherPrice}\")\n",
    "print(f\"Total Purchase Value: {totalOtherRevenue}\")"
   ]
  },
  {
   "cell_type": "code",
   "execution_count": null,
   "metadata": {},
   "outputs": [],
   "source": []
  },
  {
   "cell_type": "code",
   "execution_count": null,
   "metadata": {},
   "outputs": [],
   "source": []
  },
  {
   "cell_type": "code",
   "execution_count": null,
   "metadata": {},
   "outputs": [],
   "source": []
  }
 ],
 "metadata": {
  "kernelspec": {
   "display_name": "Python 3",
   "language": "python",
   "name": "python3"
  },
  "language_info": {
   "codemirror_mode": {
    "name": "ipython",
    "version": 3
   },
   "file_extension": ".py",
   "mimetype": "text/x-python",
   "name": "python",
   "nbconvert_exporter": "python",
   "pygments_lexer": "ipython3",
   "version": "3.8.5"
  }
 },
 "nbformat": 4,
 "nbformat_minor": 4
}
